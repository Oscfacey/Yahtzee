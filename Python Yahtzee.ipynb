{
 "cells": [
  {
   "cell_type": "markdown",
   "id": "fcd2151f",
   "metadata": {},
   "source": [
    "# Yahtzee game"
   ]
  },
  {
   "cell_type": "markdown",
   "id": "ad54b0f1",
   "metadata": {},
   "source": [
    "### Global"
   ]
  },
  {
   "cell_type": "code",
   "execution_count": 1,
   "id": "6b10b5fd",
   "metadata": {},
   "outputs": [],
   "source": [
    "import random\n",
    "from IPython.display import clear_output"
   ]
  },
  {
   "cell_type": "code",
   "execution_count": 2,
   "id": "c9ad3688",
   "metadata": {},
   "outputs": [],
   "source": [
    "# Define constants\n",
    "\n",
    "num_dice = 5\n",
    "num_sides = 6\n",
    "num_rounds = 13"
   ]
  },
  {
   "cell_type": "markdown",
   "id": "7a75616d",
   "metadata": {},
   "source": [
    "### Scoring functions"
   ]
  },
  {
   "cell_type": "code",
   "execution_count": 3,
   "id": "efd7b201",
   "metadata": {},
   "outputs": [],
   "source": [
    "def calculate_ones(dice):\n",
    "    return dice.count(1)"
   ]
  },
  {
   "cell_type": "code",
   "execution_count": 4,
   "id": "e6933f2d",
   "metadata": {},
   "outputs": [],
   "source": [
    "def calculate_twos(dice):\n",
    "    return dice.count(2) * 2"
   ]
  },
  {
   "cell_type": "code",
   "execution_count": 5,
   "id": "78a547af",
   "metadata": {},
   "outputs": [],
   "source": [
    "def calculate_threes(dice):\n",
    "    return dice.count(3) * 3"
   ]
  },
  {
   "cell_type": "code",
   "execution_count": 6,
   "id": "0f6df36f",
   "metadata": {},
   "outputs": [],
   "source": [
    "def calculate_fours(dice):\n",
    "    return dice.count(4) * 4"
   ]
  },
  {
   "cell_type": "code",
   "execution_count": 7,
   "id": "313b65c0",
   "metadata": {},
   "outputs": [],
   "source": [
    "def calculate_fives(dice):\n",
    "    return dice.count(5) * 5"
   ]
  },
  {
   "cell_type": "code",
   "execution_count": 8,
   "id": "84adc387",
   "metadata": {},
   "outputs": [],
   "source": [
    "def calculate_sixes(dice):\n",
    "    return dice.count(6) * 6"
   ]
  },
  {
   "cell_type": "code",
   "execution_count": 9,
   "id": "92a404b8",
   "metadata": {},
   "outputs": [],
   "source": [
    "def calculate_three_of_a_kind(dice):\n",
    "    for value in set(dice):\n",
    "        if dice.count(value) >= 3:\n",
    "            return value * 3\n",
    "    return 0"
   ]
  },
  {
   "cell_type": "code",
   "execution_count": 10,
   "id": "d717fc87",
   "metadata": {},
   "outputs": [],
   "source": [
    "def calculate_four_of_a_kind(dice):\n",
    "    for value in set(dice):\n",
    "        if dice.count(value) >= 4:\n",
    "            return value * 4\n",
    "    return 0"
   ]
  },
  {
   "cell_type": "code",
   "execution_count": 11,
   "id": "ee9cb374",
   "metadata": {},
   "outputs": [],
   "source": [
    "def calculate_full_house(dice): \n",
    "    dice_set = set(dice)\n",
    "    if len(dice_set) == 2 and dice.count(dice[0]) == 2 or  dice.count(dice[0]) == 3:\n",
    "        return 25\n",
    "    return 0"
   ]
  },
  {
   "cell_type": "code",
   "execution_count": 12,
   "id": "5f8a2cdc",
   "metadata": {},
   "outputs": [],
   "source": [
    "def calculate_small_straight(dice):\n",
    "    sorted_dice = sorted(dice)\n",
    "    consecutive_count = 0\n",
    "    for i in range(len(sorted_dice) - 1):\n",
    "        if sorted_dice[i] + 1 == sorted_dice[i + 1]:\n",
    "            consecutive_count += 1\n",
    "            if consecutive_count == 3:\n",
    "                return 30\n",
    "        elif sorted_dice[i] != sorted_dice[i + 1]:\n",
    "            consecutive_count = 0\n",
    "    return 0"
   ]
  },
  {
   "cell_type": "code",
   "execution_count": 13,
   "id": "09690f6b",
   "metadata": {},
   "outputs": [],
   "source": [
    "def calculate_large_straight(dice):\n",
    "    set_dice = list(set(dice))\n",
    "    if len(set_dice) == 5:\n",
    "        return 40\n",
    "    return 0"
   ]
  },
  {
   "cell_type": "code",
   "execution_count": 14,
   "id": "954fe242",
   "metadata": {},
   "outputs": [],
   "source": [
    "def calculate_yahtzee(dice):\n",
    "    set_dice = list(set(dice))\n",
    "    if len(set_dice) == 1:\n",
    "        return 50\n",
    "    return 0"
   ]
  },
  {
   "cell_type": "code",
   "execution_count": 15,
   "id": "d6f015c5",
   "metadata": {},
   "outputs": [],
   "source": [
    "def calculate_chance(dice):\n",
    "    return sum(dice)"
   ]
  },
  {
   "cell_type": "markdown",
   "id": "464e63e5",
   "metadata": {},
   "source": [
    "### Combinations"
   ]
  },
  {
   "cell_type": "code",
   "execution_count": 16,
   "id": "29be9f93",
   "metadata": {},
   "outputs": [],
   "source": [
    "# Define scoring combinations and their scoring functions\n",
    "available_combinations = {\n",
    "    \"Ones\": calculate_ones,\n",
    "    \"Twos\": calculate_twos,\n",
    "    \"Threes\": calculate_threes,\n",
    "    \"Fours\": calculate_fours,\n",
    "    \"Fives\": calculate_fives,\n",
    "    \"Sixes\": calculate_sixes,\n",
    "    \"Three Of A Kind\": calculate_three_of_a_kind,\n",
    "    \"Four Of A Kind\": calculate_four_of_a_kind,\n",
    "    \"Full House\": calculate_full_house,\n",
    "    \"Small Straight\": calculate_small_straight,\n",
    "    \"Large Straight\": calculate_large_straight,\n",
    "    \"Yahtzee\": calculate_yahtzee,\n",
    "    \"Chance\": calculate_chance\n",
    "}"
   ]
  },
  {
   "cell_type": "code",
   "execution_count": 17,
   "id": "04dab59f",
   "metadata": {},
   "outputs": [],
   "source": [
    "def display_available_combinations(player_name, scoreboard):\n",
    "    print(f\"\\n{player_name}, available combinations:\\n------------------------------\")\n",
    "    for combination in available_combinations.keys():\n",
    "        if scoreboard[player_name][combination] is None:\n",
    "            print(combination)"
   ]
  },
  {
   "cell_type": "code",
   "execution_count": 18,
   "id": "b112d189",
   "metadata": {},
   "outputs": [],
   "source": [
    "def choose_combination(player_name, scoreboard):\n",
    "    display_available_combinations(player_name, scoreboard)\n",
    "    while True:\n",
    "        choice = input(\"\\nChoose a combination: \").title()\n",
    "        if choice in available_combinations and scoreboard[player_name][choice] is None:\n",
    "            return choice\n",
    "        else:\n",
    "            print(\"Invalid choice or combination already used. Please choose a valid combination.\")"
   ]
  },
  {
   "cell_type": "code",
   "execution_count": 19,
   "id": "49f85acc",
   "metadata": {},
   "outputs": [],
   "source": [
    "def calculate_score(dice, combination):\n",
    "    scoring_function = available_combinations[combination]\n",
    "    if combination in [\"Ones\", \"Twos\", \"Threes\", \"Fours\", \"Fives\", \"Sixes\"]:\n",
    "        return scoring_function(dice)\n",
    "    else:\n",
    "        return scoring_function(dice)"
   ]
  },
  {
   "cell_type": "markdown",
   "id": "f1edef5e",
   "metadata": {},
   "source": [
    "### Scoreboard"
   ]
  },
  {
   "cell_type": "code",
   "execution_count": 20,
   "id": "16cc7db6",
   "metadata": {},
   "outputs": [],
   "source": [
    "def initialize_scoreboard(players):\n",
    "    scoreboard = {}\n",
    "    \n",
    "    for player_name in players:\n",
    "        scoreboard[player_name] = {\"Bonus\": None}\n",
    "        for combination in available_combinations.keys():\n",
    "            scoreboard[player_name][combination] = None\n",
    "            \n",
    "    return scoreboard"
   ]
  },
  {
   "cell_type": "code",
   "execution_count": 21,
   "id": "60f03144",
   "metadata": {},
   "outputs": [],
   "source": [
    "def update_scoreboard(player_name, combination, score, scoreboard):\n",
    "    scoreboard[player_name][combination] = score\n"
   ]
  },
  {
   "cell_type": "code",
   "execution_count": 22,
   "id": "fdbe37d6",
   "metadata": {},
   "outputs": [],
   "source": [
    "def display_scoreboard(player_name, scoreboard, upper_section_combinations):\n",
    "    print(f\"\\n{player_name}'s Scoreboard:\\n-------------------\")\n",
    "    upper_section_scores = [score for combination, score in scoreboard[player_name].items() if combination in upper_section_combinations and score is not None]\n",
    "    \n",
    "    for combination, score in scoreboard[player_name].items():\n",
    "        if combination != \"Bonus\":\n",
    "            if score is not None:\n",
    "                print(f\"{combination}: {score}\")\n",
    "            else:\n",
    "                print(f\"{combination}: 0\")\n",
    "    \n",
    "    bonus = calculate_bonus(scoreboard[player_name])  # Calculate bonus progress\n",
    "    total_upper_section_score = sum(upper_section_scores)\n"
   ]
  },
  {
   "cell_type": "code",
   "execution_count": 23,
   "id": "bdec29ad",
   "metadata": {},
   "outputs": [],
   "source": [
    "def calculate_total_scores(scoreboard):\n",
    "    total_scores = {}\n",
    "    for player, scores in scoreboard.items():\n",
    "        bonus = calculate_bonus(scores)\n",
    "        total_scores[player] = bonus + sum(score for combination, score in scores.items() if combination != 'Bonus' and score is not None)\n",
    "    return total_scores"
   ]
  },
  {
   "cell_type": "code",
   "execution_count": 24,
   "id": "21b03f82",
   "metadata": {},
   "outputs": [],
   "source": [
    "def determine_winner(total_scores):\n",
    "    max_score = max(total_scores.values())\n",
    "    winners = [player for player, score in total_scores.items() if score == max_score]\n",
    "    return winners, max_score"
   ]
  },
  {
   "cell_type": "code",
   "execution_count": 25,
   "id": "8e30641c",
   "metadata": {},
   "outputs": [],
   "source": [
    "def clear_scoreboard():\n",
    "    cont = input(\"Press enter for next turn: \")\n",
    "    clear_output()\n",
    "\n"
   ]
  },
  {
   "cell_type": "code",
   "execution_count": 26,
   "id": "6fd0b30f",
   "metadata": {},
   "outputs": [],
   "source": [
    "def calculate_bonus(player_scores):\n",
    "    upper_section_combinations = [\"Ones\", \"Twos\", \"Threes\", \"Fours\", \"Fives\", \"Sixes\"]\n",
    "    upper_section_score = sum(player_scores[combination] for combination in upper_section_combinations if player_scores[combination] is not None)\n",
    "    \n",
    "    if upper_section_score >= 63:\n",
    "        return 50\n",
    "    else:\n",
    "        return 0"
   ]
  },
  {
   "cell_type": "markdown",
   "id": "953b9196",
   "metadata": {},
   "source": [
    "## Main"
   ]
  },
  {
   "cell_type": "code",
   "execution_count": 27,
   "id": "1b9d6251",
   "metadata": {},
   "outputs": [],
   "source": [
    "def roll_dice(num_dice, dice_to_keep=[]):\n",
    "    rolled_dice = [random.randint(1, num_sides) for i in range(num_dice - len(dice_to_keep))]\n",
    "    return dice_to_keep + rolled_dice"
   ]
  },
  {
   "cell_type": "code",
   "execution_count": 28,
   "id": "24823844",
   "metadata": {},
   "outputs": [],
   "source": [
    "def player_turn(player_name, scoreboard):\n",
    "    print(\"\\nPlayer Turn:\", player_name)\n",
    "    input(f\"\\n{player_name}, press Enter to roll the dice...\")\n",
    "    dice = roll_dice(num_dice)\n",
    "    print(f\"{player_name} rolled: {dice}\")\n",
    "\n",
    "    re_roll_count = 0\n",
    "    new_dice = dice\n",
    "    while re_roll_count < 2:\n",
    "        re_roll_choice = input(\"\\nEnter indices of dice to re-roll, or press Enter to keep all (Re-roll {}/2): \".format(re_roll_count + 1))\n",
    "        if re_roll_choice.strip() == \"\":\n",
    "            break  # If no input, exit the loop\n",
    "\n",
    "        indices_to_reroll = [int(idx) - 1 for idx in re_roll_choice.split() if idx.isdigit()]\n",
    "        if all(0 <= idx < num_dice for idx in indices_to_reroll) and len(indices_to_reroll) > 0:\n",
    "            new_dice = roll_dice(num_dice, dice_to_keep=[new_dice[i] for i in range(num_dice) if i not in indices_to_reroll])\n",
    "            new_dice.sort()\n",
    "            print(f\"{player_name} re-rolled: {new_dice}\")\n",
    "            re_roll_count += 1\n",
    "        else:\n",
    "            print(\"\\nInvalid input. Please enter valid integer indices separated by spaces and within the range 1 to {}.\".format(num_dice))\n",
    "\n",
    "    chosen_combination = choose_combination(player_name, scoreboard)\n",
    "    score = calculate_score(new_dice, chosen_combination)\n",
    "    update_scoreboard(player_name, chosen_combination, score, scoreboard)\n",
    "    bonus = calculate_bonus(scoreboard[player_name])\n",
    "    \n",
    "    upper_section_combinations = [\"Ones\", \"Twos\", \"Threes\", \"Fours\", \"Fives\", \"Sixes\"]\n",
    "    upper_section_score = sum(scoreboard[player_name][combination] for combination in upper_section_combinations if scoreboard[player_name][combination] is not None)\n",
    "\n",
    "    print(f\"{player_name} scored {score} points for {chosen_combination}\")\n",
    "    \n",
    "    if scoreboard[player_name]['Bonus'] is None:\n",
    "        scoreboard[player_name]['Bonus'] = bonus\n",
    "        print(f\"\\nBonus: 50 points (Progress towards Bonus: {upper_section_score} / 63)\")\n",
    "    else:\n",
    "        print(f\"\\nBonus: 50 points (Progress towards Bonus: {upper_section_score} / 63)\")\n",
    "    "
   ]
  },
  {
   "cell_type": "code",
   "execution_count": 29,
   "id": "18db05a3",
   "metadata": {},
   "outputs": [],
   "source": [
    "def main():\n",
    "    print(\"Welcome to a game of Python Yahtzee!\\n------------------------------------\")\n",
    "    num_players = int(input(\"\\nEnter the number of players: \"))\n",
    "    players = [input(f\"\\nEnter name for Player {i+1}: \") for i in range(num_players)]\n",
    "    scoreboard = initialize_scoreboard(players)\n",
    "\n",
    "    total_combinations = len(available_combinations)\n",
    "    \n",
    "    upper_section_combinations = [\"Ones\", \"Twos\", \"Threes\", \"Fours\", \"Fives\", \"Sixes\"]\n",
    "    \n",
    "    while any(score is None for player_scores in scoreboard.values() for score in player_scores.values()):\n",
    "        print(\"\\nNew round:\\n----------\")\n",
    "        for player_name in players:\n",
    "            if any(score is None for score in scoreboard[player_name].values()):\n",
    "                player_turn(player_name, scoreboard)\n",
    "                display_scoreboard(player_name, scoreboard, upper_section_combinations)\n",
    "                clear_scoreboard()\n",
    "               \n",
    "                \n",
    "    print(\"\\nAll players have used all combinations. Game over!\")\n",
    "    \n",
    "    total_scores = calculate_total_scores(scoreboard)\n",
    "    winners, max_score = determine_winner(total_scores)\n",
    "\n",
    "    print(\"\\nFinal Scores:\")\n",
    "    for player, score in total_scores.items():\n",
    "        print(f\"{player}: {score}\")\n",
    "    \n",
    "    print(\"\\nWinner(s):\")\n",
    "    for winner in winners:\n",
    "        print(f\"{winner} wins with a score of {max_score}!\")"
   ]
  },
  {
   "cell_type": "code",
   "execution_count": null,
   "id": "d0650172",
   "metadata": {},
   "outputs": [
    {
     "name": "stdout",
     "output_type": "stream",
     "text": [
      "\n",
      "New round:\n",
      "----------\n",
      "\n",
      "Player Turn: Kevin\n",
      "\n",
      "Kevin, press Enter to roll the dice...\n",
      "Kevin rolled: [4, 4, 3, 4, 2]\n",
      "\n",
      "Enter indices of dice to re-roll, or press Enter to keep all (Re-roll 1/2): \n",
      "\n",
      "Kevin, available combinations:\n",
      "------------------------------\n",
      "Ones\n",
      "Twos\n",
      "Threes\n",
      "Fours\n",
      "Fives\n",
      "Sixes\n",
      "Three Of A Kind\n",
      "Small Straight\n",
      "Large Straight\n",
      "Yahtzee\n",
      "Chance\n"
     ]
    }
   ],
   "source": [
    "main()"
   ]
  },
  {
   "cell_type": "code",
   "execution_count": null,
   "id": "8a9a082b",
   "metadata": {},
   "outputs": [],
   "source": []
  }
 ],
 "metadata": {
  "kernelspec": {
   "display_name": "Python 3 (ipykernel)",
   "language": "python",
   "name": "python3"
  },
  "language_info": {
   "codemirror_mode": {
    "name": "ipython",
    "version": 3
   },
   "file_extension": ".py",
   "mimetype": "text/x-python",
   "name": "python",
   "nbconvert_exporter": "python",
   "pygments_lexer": "ipython3",
   "version": "3.10.9"
  }
 },
 "nbformat": 4,
 "nbformat_minor": 5
}
